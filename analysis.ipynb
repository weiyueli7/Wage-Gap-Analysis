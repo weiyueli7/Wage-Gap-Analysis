{
 "cells": [
  {
   "cell_type": "code",
   "execution_count": 1,
   "id": "17f8a060",
   "metadata": {},
   "outputs": [
    {
     "name": "stdout",
     "output_type": "stream",
     "text": [
      "\n",
      "  ___  ____  ____  ____  ____ ©\n",
      " /__    /   ____/   /   ____/      17.0\n",
      "___/   /   /___/   /   /___/       SE—Standard Edition\n",
      "\n",
      " Statistics and Data Science       Copyright 1985-2021 StataCorp LLC\n",
      "                                   StataCorp\n",
      "                                   4905 Lakeway Drive\n",
      "                                   College Station, Texas 77845 USA\n",
      "                                   800-STATA-PC        https://www.stata.com\n",
      "                                   979-696-4600        stata@stata.com\n",
      "\n",
      "Stata license: Unlimited-user network, expiring 31 Jul 2023\n",
      "Serial number: 401709315392\n",
      "  Licensed to: Weiyue Li\n",
      "               UCSD\n",
      "\n",
      "Notes:\n",
      "      1. Unicode is supported; see help unicode_advice.\n",
      "      2. Maximum number of variables is set to 5,000; see help set_maxvar.\n"
     ]
    }
   ],
   "source": [
    "# required modules\n",
    "import re\n",
    "import requests\n",
    "import numpy as np\n",
    "import pandas as pd\n",
    "import statsmodels.api as sm\n",
    "import matplotlib.pyplot as plt\n",
    "from bs4 import BeautifulSoup\n",
    "import warnings\n",
    "warnings.filterwarnings(action='ignore')\n",
    "\n",
    "# use Stata in Python environment\n",
    "import os\n",
    "import sys\n",
    "# sys.path.append('/Applications/Stata/utilities')\n",
    "os.chdir('/Applications/Stata/utilities')\n",
    "try:\n",
    "    from pystata import config\n",
    "except:\n",
    "    !pip install pystata\n",
    "    from pystata import config\n",
    "config.init('se')"
   ]
  },
  {
   "cell_type": "code",
   "execution_count": 2,
   "id": "3f8d5c24",
   "metadata": {},
   "outputs": [
    {
     "name": "stdout",
     "output_type": "stream",
     "text": [
      "Orginal Dataset Shape: (2977215, 25)\n",
      "Official description for each column:\n",
      "https://cps.ipums.org/cps-action/variables/YEAR\n",
      "https://cps.ipums.org/cps-action/variables/SERIAL\n",
      "https://cps.ipums.org/cps-action/variables/MONTH\n",
      "https://cps.ipums.org/cps-action/variables/HWTFINL\n",
      "https://cps.ipums.org/cps-action/variables/CPSID\n",
      "https://cps.ipums.org/cps-action/variables/ASECFLAG\n",
      "https://cps.ipums.org/cps-action/variables/ASECWTH\n",
      "https://cps.ipums.org/cps-action/variables/REGION\n",
      "https://cps.ipums.org/cps-action/variables/PERNUM\n",
      "https://cps.ipums.org/cps-action/variables/WTFINL\n",
      "https://cps.ipums.org/cps-action/variables/CPSIDP\n",
      "https://cps.ipums.org/cps-action/variables/ASECWT\n",
      "https://cps.ipums.org/cps-action/variables/AGE\n",
      "https://cps.ipums.org/cps-action/variables/SEX\n",
      "https://cps.ipums.org/cps-action/variables/RACE\n",
      "https://cps.ipums.org/cps-action/variables/MARST\n",
      "https://cps.ipums.org/cps-action/variables/EMPSTAT\n",
      "https://cps.ipums.org/cps-action/variables/OCC\n",
      "https://cps.ipums.org/cps-action/variables/UHRSWORKT\n",
      "https://cps.ipums.org/cps-action/variables/WKSTAT\n",
      "https://cps.ipums.org/cps-action/variables/JOBCERT\n",
      "https://cps.ipums.org/cps-action/variables/EDUC\n",
      "https://cps.ipums.org/cps-action/variables/EDDIPGED\n",
      "https://cps.ipums.org/cps-action/variables/INCWAGE\n",
      "https://cps.ipums.org/cps-action/variables/OINCWAGE\n"
     ]
    },
    {
     "data": {
      "text/html": [
       "<div>\n",
       "<style scoped>\n",
       "    .dataframe tbody tr th:only-of-type {\n",
       "        vertical-align: middle;\n",
       "    }\n",
       "\n",
       "    .dataframe tbody tr th {\n",
       "        vertical-align: top;\n",
       "    }\n",
       "\n",
       "    .dataframe thead th {\n",
       "        text-align: right;\n",
       "    }\n",
       "</style>\n",
       "<table border=\"1\" class=\"dataframe\">\n",
       "  <thead>\n",
       "    <tr style=\"text-align: right;\">\n",
       "      <th></th>\n",
       "      <th>YEAR</th>\n",
       "      <th>SEX</th>\n",
       "      <th>REGION</th>\n",
       "      <th>WKSTAT</th>\n",
       "      <th>EDUC</th>\n",
       "      <th>OCC</th>\n",
       "      <th>INCWAGE</th>\n",
       "    </tr>\n",
       "  </thead>\n",
       "  <tbody>\n",
       "    <tr>\n",
       "      <th>0</th>\n",
       "      <td>2020</td>\n",
       "      <td>2</td>\n",
       "      <td>11</td>\n",
       "      <td>11</td>\n",
       "      <td>73</td>\n",
       "      <td>440</td>\n",
       "      <td>52500.0</td>\n",
       "    </tr>\n",
       "    <tr>\n",
       "      <th>1</th>\n",
       "      <td>2020</td>\n",
       "      <td>1</td>\n",
       "      <td>11</td>\n",
       "      <td>99</td>\n",
       "      <td>73</td>\n",
       "      <td>0</td>\n",
       "      <td>56000.0</td>\n",
       "    </tr>\n",
       "    <tr>\n",
       "      <th>2</th>\n",
       "      <td>2020</td>\n",
       "      <td>1</td>\n",
       "      <td>11</td>\n",
       "      <td>11</td>\n",
       "      <td>73</td>\n",
       "      <td>9121</td>\n",
       "      <td>34000.0</td>\n",
       "    </tr>\n",
       "    <tr>\n",
       "      <th>3</th>\n",
       "      <td>2020</td>\n",
       "      <td>2</td>\n",
       "      <td>11</td>\n",
       "      <td>99</td>\n",
       "      <td>50</td>\n",
       "      <td>0</td>\n",
       "      <td>0.0</td>\n",
       "    </tr>\n",
       "    <tr>\n",
       "      <th>4</th>\n",
       "      <td>2020</td>\n",
       "      <td>2</td>\n",
       "      <td>11</td>\n",
       "      <td>11</td>\n",
       "      <td>73</td>\n",
       "      <td>5500</td>\n",
       "      <td>40000.0</td>\n",
       "    </tr>\n",
       "  </tbody>\n",
       "</table>\n",
       "</div>"
      ],
      "text/plain": [
       "   YEAR  SEX  REGION  WKSTAT  EDUC   OCC  INCWAGE\n",
       "0  2020    2      11      11    73   440  52500.0\n",
       "1  2020    1      11      99    73     0  56000.0\n",
       "2  2020    1      11      11    73  9121  34000.0\n",
       "3  2020    2      11      99    50     0      0.0\n",
       "4  2020    2      11      11    73  5500  40000.0"
      ]
     },
     "metadata": {},
     "output_type": "display_data"
    }
   ],
   "source": [
    "os.chdir('/Users/larry/Wage-Gap-Analysis')\n",
    "data = pd.read_csv('cps_00001.csv.gz', compression='gzip', error_bad_lines=False)\n",
    "print(\"Orginal Dataset Shape:\", data.shape)\n",
    "print(\"Official description for each column:\")\n",
    "for col in data: \n",
    "    print(f\"https://cps.ipums.org/cps-action/variables/{col}\")\n",
    "data = data[['YEAR', 'SEX', 'REGION', 'WKSTAT', 'EDUC', 'OCC', 'INCWAGE']]\n",
    "display(data.head())"
   ]
  },
  {
   "cell_type": "code",
   "execution_count": 3,
   "id": "5bde7e64",
   "metadata": {},
   "outputs": [
    {
     "data": {
      "text/html": [
       "<div>\n",
       "<style scoped>\n",
       "    .dataframe tbody tr th:only-of-type {\n",
       "        vertical-align: middle;\n",
       "    }\n",
       "\n",
       "    .dataframe tbody tr th {\n",
       "        vertical-align: top;\n",
       "    }\n",
       "\n",
       "    .dataframe thead th {\n",
       "        text-align: right;\n",
       "    }\n",
       "</style>\n",
       "<table border=\"1\" class=\"dataframe\">\n",
       "  <thead>\n",
       "    <tr style=\"text-align: right;\">\n",
       "      <th></th>\n",
       "      <th>YEAR</th>\n",
       "      <th>SEX</th>\n",
       "      <th>REGION</th>\n",
       "      <th>WKSTAT</th>\n",
       "      <th>EDUC</th>\n",
       "      <th>OCC</th>\n",
       "      <th>INCWAGE</th>\n",
       "      <th>LN_INCWAGE</th>\n",
       "      <th>is_male</th>\n",
       "      <th>OCCU</th>\n",
       "    </tr>\n",
       "  </thead>\n",
       "  <tbody>\n",
       "    <tr>\n",
       "      <th>0</th>\n",
       "      <td>2020</td>\n",
       "      <td>2</td>\n",
       "      <td>NORTHEAST</td>\n",
       "      <td>11</td>\n",
       "      <td>HS</td>\n",
       "      <td>440</td>\n",
       "      <td>52500.0</td>\n",
       "      <td>10.868568</td>\n",
       "      <td>False</td>\n",
       "      <td>EQUAL_DOMINANT</td>\n",
       "    </tr>\n",
       "    <tr>\n",
       "      <th>2</th>\n",
       "      <td>2020</td>\n",
       "      <td>1</td>\n",
       "      <td>NORTHEAST</td>\n",
       "      <td>11</td>\n",
       "      <td>HS</td>\n",
       "      <td>9121</td>\n",
       "      <td>34000.0</td>\n",
       "      <td>10.434116</td>\n",
       "      <td>True</td>\n",
       "      <td>EQUAL_DOMINANT</td>\n",
       "    </tr>\n",
       "    <tr>\n",
       "      <th>4</th>\n",
       "      <td>2020</td>\n",
       "      <td>2</td>\n",
       "      <td>NORTHEAST</td>\n",
       "      <td>11</td>\n",
       "      <td>HS</td>\n",
       "      <td>5500</td>\n",
       "      <td>40000.0</td>\n",
       "      <td>10.596635</td>\n",
       "      <td>False</td>\n",
       "      <td>EQUAL_DOMINANT</td>\n",
       "    </tr>\n",
       "    <tr>\n",
       "      <th>8</th>\n",
       "      <td>2020</td>\n",
       "      <td>1</td>\n",
       "      <td>NORTHEAST</td>\n",
       "      <td>11</td>\n",
       "      <td>COLLEGE</td>\n",
       "      <td>3870</td>\n",
       "      <td>58000.0</td>\n",
       "      <td>10.968198</td>\n",
       "      <td>True</td>\n",
       "      <td>MALE_DOMINANT</td>\n",
       "    </tr>\n",
       "    <tr>\n",
       "      <th>14</th>\n",
       "      <td>2020</td>\n",
       "      <td>2</td>\n",
       "      <td>NORTHEAST</td>\n",
       "      <td>11</td>\n",
       "      <td>COLLEGE</td>\n",
       "      <td>3150</td>\n",
       "      <td>42000.0</td>\n",
       "      <td>10.645425</td>\n",
       "      <td>False</td>\n",
       "      <td>FEMALE_DOMINANT</td>\n",
       "    </tr>\n",
       "  </tbody>\n",
       "</table>\n",
       "</div>"
      ],
      "text/plain": [
       "    YEAR  SEX     REGION  WKSTAT     EDUC   OCC  INCWAGE  LN_INCWAGE  is_male  \\\n",
       "0   2020    2  NORTHEAST      11       HS   440  52500.0   10.868568    False   \n",
       "2   2020    1  NORTHEAST      11       HS  9121  34000.0   10.434116     True   \n",
       "4   2020    2  NORTHEAST      11       HS  5500  40000.0   10.596635    False   \n",
       "8   2020    1  NORTHEAST      11  COLLEGE  3870  58000.0   10.968198     True   \n",
       "14  2020    2  NORTHEAST      11  COLLEGE  3150  42000.0   10.645425    False   \n",
       "\n",
       "               OCCU  \n",
       "0    EQUAL_DOMINANT  \n",
       "2    EQUAL_DOMINANT  \n",
       "4    EQUAL_DOMINANT  \n",
       "8     MALE_DOMINANT  \n",
       "14  FEMALE_DOMINANT  "
      ]
     },
     "execution_count": 3,
     "metadata": {},
     "output_type": "execute_result"
    }
   ],
   "source": [
    "def clean(df):\n",
    "    df = df.copy()\n",
    "    df = df[df['YEAR']>=2020]\n",
    "    df = df[df['SEX'] != 9]\n",
    "    df = df[(df['INCWAGE']!=99999999) & (df['INCWAGE']!=0)].dropna(subset=['INCWAGE'])\n",
    "    df['LN_INCWAGE'] = df['INCWAGE'].apply(np.log)\n",
    "    \n",
    "    # keep all full time workers\n",
    "    df = df[df['WKSTAT'] <= 13]\n",
    "    # clean region\n",
    "    \n",
    "    df = df[df['REGION'] != 97]\n",
    "    regions = {11:'NORTHEAST', 12:'NORTHEAST', 21: 'MIDWEST', 22: 'MIDWEST', 31: 'SOUTH', 32: 'SOUTH', 33: 'SOUTH', 41: 'WEST', 42: 'WEST'}\n",
    "    df['REGION'] = df['REGION'].replace(regions)\n",
    "    \n",
    "    # clean education\n",
    "    df = df[df['EDUC'] >= 10]\n",
    "    \n",
    "    education = {j:'HS' if j <= 73 else 'COLLEGE' if j < 123 else 'GRAD' for j in range(126)}\n",
    "    df['EDUC'] = df['EDUC'].replace(education)\n",
    "    \n",
    "    # clean occupations\n",
    "    df['is_male'] = df['SEX'] == 1\n",
    "    male, equal, female = classify_occ(df)\n",
    "    male_dict, equal_dict, female_dict = {i[0]:'MALE_DOMINANT' for i in male}, \\\n",
    "                                        {i[0]:'EQUAL_DOMINANT' for i in equal}, \\\n",
    "                                        {i[0]:'FEMALE_DOMINANT' for i in female}\n",
    "    occupation = {}\n",
    "    occupation.update(male_dict)\n",
    "    occupation.update(female_dict)\n",
    "    occupation.update(equal_dict)\n",
    "    df['OCCU'] = df['OCC'].copy()\n",
    "    df['OCCU'] = df['OCCU'].replace(occupation)\n",
    "            \n",
    "    \n",
    "    return df\n",
    "\n",
    "def classify_occ(df):\n",
    "    df = df.copy()\n",
    "    occs = list(df['OCC'].unique())\n",
    "    if 'is_male' in df.columns:\n",
    "        pass\n",
    "    else:\n",
    "        df['is_male'] = df['SEX'] == 1\n",
    "    male_dominant = []\n",
    "    equal_dominant = []\n",
    "    female_dominant = []\n",
    "    for occ in occs:\n",
    "        gender_dict = df[df['OCC'] == occ]['is_male'].value_counts(normalize=True).to_dict()\n",
    "        prop = gender_dict.get(True)\n",
    "        if isinstance(prop, float) and (prop >= 0.7):\n",
    "            male_dominant.append([occ, prop])\n",
    "        elif isinstance(prop, float) and (prop >= 0.3):\n",
    "            equal_dominant.append([occ, prop])\n",
    "        elif isinstance(prop, float):\n",
    "            female_dominant.append([occ, prop])\n",
    "        else:\n",
    "            female_dominant.append([occ, 0])\n",
    "    male_dominant = sorted(male_dominant, key=lambda x: x[-1], reverse=True)\n",
    "    equal_dominant = sorted(equal_dominant, key=lambda x: x[-1], reverse=True)\n",
    "    female_dominant = sorted(female_dominant, key=lambda x: x[-1], reverse=True)\n",
    "    return male_dominant, equal_dominant, female_dominant\n",
    "\n",
    "df = clean(data)\n",
    "df.head()"
   ]
  },
  {
   "cell_type": "code",
   "execution_count": 4,
   "id": "bdc61f4d",
   "metadata": {},
   "outputs": [
    {
     "data": {
      "image/png": "[encoded data removed]",
      "text/plain": [
       "<Figure size 1080x576 with 1 Axes>"
      ]
     },
     "metadata": {
      "needs_background": "light"
     },
     "output_type": "display_data"
    }
   ],
   "source": [
    "dur_1 = np.array(df[(df['is_male']) & (df['INCWAGE'] <= 6e5)]['INCWAGE'])\n",
    "dur_2 = np.array(df[(df['is_male']==False) & (df['INCWAGE'] <= 6e5)]['INCWAGE'])\n",
    "fig = plt.figure(figsize=(15, 8))\n",
    "ax = fig.add_subplot(111)\n",
    "y_1, binEdges_1 = np.histogram(dur_1, bins=100)\n",
    "y_2, binEdges_2 = np.histogram(dur_2, bins=100)\n",
    "bincenters_1 = 0.5 * (binEdges_1[1:] + binEdges_1[:-1])\n",
    "bincenters_2 = 0.5 * (binEdges_2[1:] + binEdges_2[:-1])\n",
    "plt.hist(dur_1, bins=100, alpha=0.5, label='MALE')\n",
    "plt.hist(dur_2, bins=100, alpha=0.5, label='FEMALE')\n",
    "plt.xlabel(\"INCWAGE\")\n",
    "plt.ylabel(\"Count of Observation\")\n",
    "plt.title(f\"Distribution of INCWAGE for {'MALE'} vs {'FEMALE'}\")\n",
    "plt.legend(loc='upper right')\n",
    "plt.savefig('male-v-female.png')\n",
    "plt.show()"
   ]
  },
  {
   "cell_type": "code",
   "execution_count": 5,
   "id": "04c13daa",
   "metadata": {},
   "outputs": [],
   "source": [
    "# scrape the occupation description from the web\n",
    "r = requests.get(\"https://cps.ipums.org/cps/codes/occ_2020_codes.shtml\")\n",
    "soup = BeautifulSoup(r.text)\n",
    "occ_code = [i.text for i in soup.find_all(\"dt\")]\n",
    "occ_des = [i.text for i in soup.find_all(\"dd\")]\n",
    "occ_dict = dict(zip(occ_code, occ_des))\n",
    "def find_occ(occ):\n",
    "    occ = str(occ)\n",
    "    occ = occ[occ.find(\"_\")+1:]\n",
    "    while len(occ) < 4:\n",
    "        occ = \"0\" + occ\n",
    "    return occ_dict[occ]\n",
    "\n",
    "male_dominant, equal_dominant, female_dominant = classify_occ(df)\n",
    "\n",
    "male_dominant_name = [find_occ(occ[0]) + f\": {occ[1]*100}% male\" for occ in male_dominant]\n",
    "equal_dominant_name = [find_occ(occ[0]) + f\": {occ[1]*100}% male\" for occ in equal_dominant]\n",
    "female_dominant_name = [find_occ(occ[0]) + f\": {occ[1]*100}% male\" for occ in female_dominant]"
   ]
  },
  {
   "cell_type": "code",
   "execution_count": 6,
   "id": "1dd349df",
   "metadata": {
    "scrolled": false
   },
   "outputs": [],
   "source": [
    "# # uncomment to see the male-dominated occupations' names\n",
    "# male_dominant_name"
   ]
  },
  {
   "cell_type": "code",
   "execution_count": 7,
   "id": "5f32752d",
   "metadata": {
    "scrolled": false
   },
   "outputs": [],
   "source": [
    "# # uncomment to see the equal-dominated occupations' names\n",
    "# equal_dominant_name"
   ]
  },
  {
   "cell_type": "code",
   "execution_count": 8,
   "id": "20ac388c",
   "metadata": {
    "scrolled": false
   },
   "outputs": [],
   "source": [
    "# # uncomment to see the female-dominated occupations' names\n",
    "# female_dominant_name"
   ]
  },
  {
   "cell_type": "code",
   "execution_count": 9,
   "id": "b4b51559",
   "metadata": {},
   "outputs": [],
   "source": [
    "encoded = pd.get_dummies(df, columns=['REGION', 'SEX','EDUC', 'OCCU'], drop_first=True)\n",
    "encoded['MALE'] = 1 - encoded['SEX_2']"
   ]
  },
  {
   "cell_type": "code",
   "execution_count": 10,
   "id": "6df08ac3",
   "metadata": {},
   "outputs": [],
   "source": [
    "# interaction terms\n",
    "encoded['MALE_IN_OCC_MALE'] = encoded['OCCU_MALE_DOMINANT'] * encoded['is_male']\n",
    "encoded['MALE_IN_OCC_FEMALE'] = encoded['OCCU_FEMALE_DOMINANT'] * encoded['is_male']"
   ]
  },
  {
   "cell_type": "code",
   "execution_count": 11,
   "id": "36f68601",
   "metadata": {},
   "outputs": [
    {
     "data": {
      "text/plain": [
       "-14241.636915508869"
      ]
     },
     "execution_count": 11,
     "metadata": {},
     "output_type": "execute_result"
    }
   ],
   "source": [
    "# difference of mean wage between sex in female-dominated occupation\n",
    "df[df['OCCU'] == 'FEMALE_DOMINANT'].groupby('SEX').mean()[['INCWAGE']].diff().iloc[-1,0]"
   ]
  },
  {
   "cell_type": "code",
   "execution_count": 12,
   "id": "f2cb10c4",
   "metadata": {},
   "outputs": [
    {
     "data": {
      "text/plain": [
       "-1158.1255148140044"
      ]
     },
     "execution_count": 12,
     "metadata": {},
     "output_type": "execute_result"
    }
   ],
   "source": [
    "# difference of mean wage between sex in male-dominated occupation\n",
    "df[df['OCCU'] == 'MALE_DOMINANT'].groupby('SEX').mean()[['INCWAGE']].diff().iloc[-1,0]"
   ]
  },
  {
   "cell_type": "code",
   "execution_count": 13,
   "id": "f2c3e05f",
   "metadata": {},
   "outputs": [
    {
     "data": {
      "text/plain": [
       "-23311.76270912263"
      ]
     },
     "execution_count": 13,
     "metadata": {},
     "output_type": "execute_result"
    }
   ],
   "source": [
    "# difference of mean wage between sex in equal-dominated occupation\n",
    "df[df['OCCU'] == 'EQUAL_DOMINANT'].groupby('SEX').mean()[['INCWAGE']].diff().iloc[-1,0]"
   ]
  },
  {
   "cell_type": "code",
   "execution_count": 14,
   "id": "71bd7d5e",
   "metadata": {},
   "outputs": [
    {
     "data": {
      "text/html": [
       "<div>\n",
       "<style scoped>\n",
       "    .dataframe tbody tr th:only-of-type {\n",
       "        vertical-align: middle;\n",
       "    }\n",
       "\n",
       "    .dataframe tbody tr th {\n",
       "        vertical-align: top;\n",
       "    }\n",
       "\n",
       "    .dataframe thead th {\n",
       "        text-align: right;\n",
       "    }\n",
       "</style>\n",
       "<table border=\"1\" class=\"dataframe\">\n",
       "  <thead>\n",
       "    <tr style=\"text-align: right;\">\n",
       "      <th></th>\n",
       "      <th>LN_INCWAGE</th>\n",
       "      <th>REGION_NORTHEAST</th>\n",
       "      <th>REGION_SOUTH</th>\n",
       "      <th>REGION_WEST</th>\n",
       "      <th>EDUC_GRAD</th>\n",
       "      <th>EDUC_HS</th>\n",
       "      <th>OCC_FEMALE</th>\n",
       "      <th>OCC_MALE</th>\n",
       "      <th>MALE</th>\n",
       "      <th>MALE_IN_OCC_MALE</th>\n",
       "      <th>MALE_IN_OCC_FEMALE</th>\n",
       "    </tr>\n",
       "  </thead>\n",
       "  <tbody>\n",
       "    <tr>\n",
       "      <th>0</th>\n",
       "      <td>10.868568</td>\n",
       "      <td>1</td>\n",
       "      <td>0</td>\n",
       "      <td>0</td>\n",
       "      <td>0</td>\n",
       "      <td>1</td>\n",
       "      <td>0</td>\n",
       "      <td>0</td>\n",
       "      <td>0</td>\n",
       "      <td>0</td>\n",
       "      <td>0</td>\n",
       "    </tr>\n",
       "    <tr>\n",
       "      <th>2</th>\n",
       "      <td>10.434116</td>\n",
       "      <td>1</td>\n",
       "      <td>0</td>\n",
       "      <td>0</td>\n",
       "      <td>0</td>\n",
       "      <td>1</td>\n",
       "      <td>0</td>\n",
       "      <td>0</td>\n",
       "      <td>1</td>\n",
       "      <td>0</td>\n",
       "      <td>0</td>\n",
       "    </tr>\n",
       "    <tr>\n",
       "      <th>4</th>\n",
       "      <td>10.596635</td>\n",
       "      <td>1</td>\n",
       "      <td>0</td>\n",
       "      <td>0</td>\n",
       "      <td>0</td>\n",
       "      <td>1</td>\n",
       "      <td>0</td>\n",
       "      <td>0</td>\n",
       "      <td>0</td>\n",
       "      <td>0</td>\n",
       "      <td>0</td>\n",
       "    </tr>\n",
       "    <tr>\n",
       "      <th>8</th>\n",
       "      <td>10.968198</td>\n",
       "      <td>1</td>\n",
       "      <td>0</td>\n",
       "      <td>0</td>\n",
       "      <td>0</td>\n",
       "      <td>0</td>\n",
       "      <td>0</td>\n",
       "      <td>1</td>\n",
       "      <td>1</td>\n",
       "      <td>1</td>\n",
       "      <td>0</td>\n",
       "    </tr>\n",
       "    <tr>\n",
       "      <th>14</th>\n",
       "      <td>10.645425</td>\n",
       "      <td>1</td>\n",
       "      <td>0</td>\n",
       "      <td>0</td>\n",
       "      <td>0</td>\n",
       "      <td>0</td>\n",
       "      <td>1</td>\n",
       "      <td>0</td>\n",
       "      <td>0</td>\n",
       "      <td>0</td>\n",
       "      <td>0</td>\n",
       "    </tr>\n",
       "  </tbody>\n",
       "</table>\n",
       "</div>"
      ],
      "text/plain": [
       "    LN_INCWAGE  REGION_NORTHEAST  REGION_SOUTH  REGION_WEST  EDUC_GRAD  \\\n",
       "0    10.868568                 1             0            0          0   \n",
       "2    10.434116                 1             0            0          0   \n",
       "4    10.596635                 1             0            0          0   \n",
       "8    10.968198                 1             0            0          0   \n",
       "14   10.645425                 1             0            0          0   \n",
       "\n",
       "    EDUC_HS  OCC_FEMALE  OCC_MALE  MALE  MALE_IN_OCC_MALE  MALE_IN_OCC_FEMALE  \n",
       "0         1           0         0     0                 0                   0  \n",
       "2         1           0         0     1                 0                   0  \n",
       "4         1           0         0     0                 0                   0  \n",
       "8         0           0         1     1                 1                   0  \n",
       "14        0           1         0     0                 0                   0  "
      ]
     },
     "metadata": {},
     "output_type": "display_data"
    }
   ],
   "source": [
    "encoded = encoded[['LN_INCWAGE',\n",
    "       'REGION_NORTHEAST', 'REGION_SOUTH', 'REGION_WEST', 'EDUC_GRAD',\n",
    "       'EDUC_HS', 'OCCU_FEMALE_DOMINANT', 'OCCU_MALE_DOMINANT', 'MALE',\n",
    "       'MALE_IN_OCC_MALE', 'MALE_IN_OCC_FEMALE']].rename(columns={'OCCU_FEMALE_DOMINANT': 'OCC_FEMALE', 'OCCU_MALE_DOMINANT': 'OCC_MALE'})\n",
    "display(encoded.head())\n",
    "encoded.to_csv('data.csv', index=False)"
   ]
  },
  {
   "cell_type": "markdown",
   "id": "bdd40643",
   "metadata": {},
   "source": [
    "## Regression Model"
   ]
  },
  {
   "cell_type": "code",
   "execution_count": 15,
   "id": "6141ac7f",
   "metadata": {
    "scrolled": false
   },
   "outputs": [
    {
     "name": "stdout",
     "output_type": "stream",
     "text": [
      "\n",
      ". clear all\n",
      "\n",
      ". set more off\n",
      "\n",
      ". capture cd \"/Users/larry/Wag-Gap-Analysis\"\n",
      "\n",
      ". import delimited \"data.csv\"\n",
      "(encoding automatically selected: ISO-8859-1)\n",
      "(11 vars, 165,721 obs)\n",
      "\n",
      ". sum\n",
      "\n",
      "    Variable |        Obs        Mean    Std. dev.       Min        Max\n",
      "-------------+---------------------------------------------------------\n",
      "  ln_incwage |    165,721    10.82999    .8461554   .6931472   14.55745\n",
      "region_nor~t |    165,721    .1530524    .3600391          0          1\n",
      "region_south |    165,721    .3697842    .4827476          0          1\n",
      " region_west |    165,721    .2819437    .4499474          0          1\n",
      "   educ_grad |    165,721    .1686751    .3744658          0          1\n",
      "-------------+---------------------------------------------------------\n",
      "     educ_hs |    165,721    .3088866    .4620357          0          1\n",
      "  occ_female |    165,721     .240923     .427645          0          1\n",
      "    occ_male |    165,721      .34403    .4750523          0          1\n",
      "        male |    165,721    .5491036    .4975845          0          1\n",
      "male_i~_male |    165,721    .2953096    .4561832          0          1\n",
      "-------------+---------------------------------------------------------\n",
      "male_i~emale |    165,721    .0395363    .1948677          0          1\n",
      "\n",
      ". \n"
     ]
    }
   ],
   "source": [
    "%%stata\n",
    "clear all\n",
    "set more off\n",
    "capture cd \"/Users/larry/Wag-Gap-Analysis\"\n",
    "import delimited \"data.csv\"\n",
    "sum"
   ]
  },
  {
   "cell_type": "code",
   "execution_count": 16,
   "id": "3bf8135b",
   "metadata": {
    "scrolled": false
   },
   "outputs": [
    {
     "name": "stdout",
     "output_type": "stream",
     "text": [
      "\n",
      ". eststo: regress ln_incwage region_northeast region_south region_west male occ\n",
      "> _female occ_male educ_grad educ_hs\n",
      "\n",
      "      Source |       SS           df       MS      Number of obs   =   165,721\n",
      "-------------+----------------------------------   F(8, 165712)    =   4483.27\n",
      "       Model |  21111.3663         8  2638.92079   Prob > F        =    0.0000\n",
      "    Residual |  97540.6624   165,712  .588615564   R-squared       =    0.1779\n",
      "-------------+----------------------------------   Adj R-squared   =    0.1779\n",
      "       Total |  118652.029   165,720  .715978933   Root MSE        =    .76721\n",
      "\n",
      "------------------------------------------------------------------------------\n",
      "  ln_incwage | Coefficient  Std. err.      t    P>|t|     [95% conf. interval]\n",
      "-------------+----------------------------------------------------------------\n",
      "region_nor~t |    .091284   .0064443    14.17   0.000     .0786534    .1039146\n",
      "region_south |  -.0368776   .0052759    -6.99   0.000    -.0472182    -.026537\n",
      " region_west |   .0260482   .0055505     4.69   0.000     .0151694     .036927\n",
      "        male |   .2157877   .0044632    48.35   0.000     .2070398    .2245355\n",
      "  occ_female |  -.2013258   .0050819   -39.62   0.000    -.2112863   -.1913654\n",
      "    occ_male |   .0656709   .0046657    14.08   0.000     .0565261    .0748156\n",
      "   educ_grad |   .5177038   .0053108    97.48   0.000     .5072948    .5281128\n",
      "     educ_hs |  -.4555891    .004327  -105.29   0.000      -.46407   -.4471082\n",
      "       _cons |   10.78313   .0056033  1924.44   0.000     10.77215    10.79412\n",
      "------------------------------------------------------------------------------\n",
      "(est1 stored)\n",
      "\n",
      ". \n",
      ". eststo: regress ln_incwage region_northeast region_south region_west male occ\n",
      "> _female occ_male educ_grad educ_hs male_in_occ_male male_in_occ_female\n",
      "\n",
      "      Source |       SS           df       MS      Number of obs   =   165,721\n",
      "-------------+----------------------------------   F(10, 165710)   =   3601.52\n",
      "       Model |  21183.6609        10  2118.36609   Prob > F        =    0.0000\n",
      "    Residual |  97468.3678   165,710  .588186397   R-squared       =    0.1785\n",
      "-------------+----------------------------------   Adj R-squared   =    0.1785\n",
      "       Total |  118652.029   165,720  .715978933   Root MSE        =    .76693\n",
      "\n",
      "------------------------------------------------------------------------------\n",
      "  ln_incwage | Coefficient  Std. err.      t    P>|t|     [95% conf. interval]\n",
      "-------------+----------------------------------------------------------------\n",
      "region_nor~t |   .0915851    .006442    14.22   0.000      .078959    .1042113\n",
      "region_south |  -.0365273   .0052741    -6.93   0.000    -.0468644   -.0261903\n",
      " region_west |   .0267737   .0055491     4.82   0.000     .0158976    .0376498\n",
      "        male |   .2554662   .0058525    43.65   0.000     .2439954    .2669371\n",
      "  occ_female |  -.1671782   .0059475   -28.11   0.000    -.1788351   -.1555213\n",
      "    occ_male |   .1142096   .0095193    12.00   0.000      .095552    .1328671\n",
      "   educ_grad |   .5181284   .0053122    97.54   0.000     .5077167    .5285401\n",
      "     educ_hs |  -.4555082   .0043303  -105.19   0.000    -.4639954   -.4470209\n",
      "male_i~_male |  -.0723224   .0109292    -6.62   0.000    -.0937435   -.0509014\n",
      "male_i~emale |  -.1228433   .0119077   -10.32   0.000    -.1461821   -.0995045\n",
      "       _cons |   10.76216    .005946  1809.98   0.000      10.7505    10.77381\n",
      "------------------------------------------------------------------------------\n",
      "(est2 stored)\n",
      "\n",
      ". \n",
      ". esttab using regression.tex, replace label nostar ///\n",
      "> title(Regression table\\label{tab1})\n",
      "(file regression.tex not found)\n",
      "(output written to regression.tex)\n",
      "\n",
      ". \n"
     ]
    }
   ],
   "source": [
    "%%stata\n",
    "eststo: regress ln_incwage region_northeast region_south region_west male occ_female occ_male educ_grad educ_hs\n",
    "\n",
    "eststo: regress ln_incwage region_northeast region_south region_west male occ_female occ_male educ_grad educ_hs male_in_occ_male male_in_occ_female\n",
    "\n",
    "esttab using regression.tex, replace label nostar ///\n",
    "title(Regression table\\label{tab1})"
   ]
  },
  {
   "cell_type": "code",
   "execution_count": 17,
   "id": "4490664c",
   "metadata": {},
   "outputs": [],
   "source": [
    "# # b4+b10\n",
    "# .2554662 -.1228433"
   ]
  },
  {
   "cell_type": "code",
   "execution_count": 18,
   "id": "c84871d2",
   "metadata": {},
   "outputs": [],
   "source": [
    "# # b4+b9\n",
    "# .2554662 -.0723224"
   ]
  },
  {
   "cell_type": "code",
   "execution_count": 19,
   "id": "ff05c937",
   "metadata": {},
   "outputs": [],
   "source": [
    "# # b4\n",
    "# .2554662"
   ]
  },
  {
   "cell_type": "code",
   "execution_count": 20,
   "id": "f380810a",
   "metadata": {},
   "outputs": [
    {
     "name": "stdout",
     "output_type": "stream",
     "text": [
      "\n",
      " ( 1)  male + male_in_occ_female = 0\n",
      "\n",
      "       F(  1,165710) =  163.55\n",
      "            Prob > F =    0.0000\n"
     ]
    }
   ],
   "source": [
    "%%stata\n",
    "test male + occ_female + male_in_occ_female = occ_female"
   ]
  },
  {
   "cell_type": "code",
   "execution_count": 21,
   "id": "931fab50",
   "metadata": {},
   "outputs": [
    {
     "name": "stdout",
     "output_type": "stream",
     "text": [
      "\n",
      " ( 1)  male + male_in_occ_male = 0\n",
      "\n",
      "       F(  1,165710) =  393.38\n",
      "            Prob > F =    0.0000\n"
     ]
    }
   ],
   "source": [
    "%%stata\n",
    "test male + occ_male +  male_in_occ_male = occ_male"
   ]
  },
  {
   "cell_type": "code",
   "execution_count": 22,
   "id": "c670850c",
   "metadata": {},
   "outputs": [
    {
     "name": "stdout",
     "output_type": "stream",
     "text": [
      "\n",
      " ( 1)  male = 0\n",
      "\n",
      "       F(  1,165710) = 1905.38\n",
      "            Prob > F =    0.0000\n"
     ]
    }
   ],
   "source": [
    "%%stata\n",
    "test male = 0"
   ]
  },
  {
   "cell_type": "code",
   "execution_count": null,
   "id": "ec8a27b5",
   "metadata": {},
   "outputs": [],
   "source": []
  }
 ],
 "metadata": {
  "kernelspec": {
   "display_name": "Python 3 (ipykernel)",
   "language": "python",
   "name": "python3"
  },
  "language_info": {
   "codemirror_mode": {
    "name": "ipython",
    "version": 3
   },
   "file_extension": ".py",
   "mimetype": "text/x-python",
   "name": "python",
   "nbconvert_exporter": "python",
   "pygments_lexer": "ipython3",
   "version": "3.9.7"
  }
 },
 "nbformat": 4,
 "nbformat_minor": 5
}
